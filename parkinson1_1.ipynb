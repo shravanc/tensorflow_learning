{
  "nbformat": 4,
  "nbformat_minor": 0,
  "metadata": {
    "colab": {
      "name": "parkinson1.1.ipynb",
      "provenance": [],
      "authorship_tag": "ABX9TyM0eS1HkT8dGoKtTYIAxOgq",
      "include_colab_link": true
    },
    "kernelspec": {
      "name": "python3",
      "display_name": "Python 3"
    }
  },
  "cells": [
    {
      "cell_type": "markdown",
      "metadata": {
        "id": "view-in-github",
        "colab_type": "text"
      },
      "source": [
        "<a href=\"https://colab.research.google.com/github/shravanc/tensorflow_learning/blob/master/parkinson1_1.ipynb\" target=\"_parent\"><img src=\"https://colab.research.google.com/assets/colab-badge.svg\" alt=\"Open In Colab\"/></a>"
      ]
    },
    {
      "cell_type": "code",
      "metadata": {
        "id": "4jNByp7YDobc",
        "colab_type": "code",
        "colab": {
          "base_uri": "https://localhost:8080/",
          "height": 212
        },
        "outputId": "d18144a3-c6b4-4652-cd02-1727e80051f2"
      },
      "source": [
        "!wget --no-check-certificate \\\n",
        "      https://raw.githubusercontent.com/shravanc/datasets/master/parkinson_sample.csv \\\n",
        "      -O /content/parkinson_sample.csv"
      ],
      "execution_count": 3,
      "outputs": [
        {
          "output_type": "stream",
          "text": [
            "--2020-03-19 19:51:08--  https://raw.githubusercontent.com/shravanc/datasets/master/parkinson_sample.csv\n",
            "Resolving raw.githubusercontent.com (raw.githubusercontent.com)... 151.101.0.133, 151.101.64.133, 151.101.128.133, ...\n",
            "Connecting to raw.githubusercontent.com (raw.githubusercontent.com)|151.101.0.133|:443... connected.\n",
            "HTTP request sent, awaiting response... 200 OK\n",
            "Length: 324250 (317K) [text/plain]\n",
            "Saving to: ‘/content/parkinson_sample.csv’\n",
            "\n",
            "\r          /content/   0%[                    ]       0  --.-KB/s               \r/content/parkinson_ 100%[===================>] 316.65K  --.-KB/s    in 0.05s   \n",
            "\n",
            "2020-03-19 19:51:08 (5.87 MB/s) - ‘/content/parkinson_sample.csv’ saved [324250/324250]\n",
            "\n"
          ],
          "name": "stdout"
        }
      ]
    },
    {
      "cell_type": "markdown",
      "metadata": {
        "id": "UhXLI_glFBsn",
        "colab_type": "text"
      },
      "source": [
        "# Data Visualization"
      ]
    },
    {
      "cell_type": "code",
      "metadata": {
        "id": "kFisw7ufFAU0",
        "colab_type": "code",
        "colab": {
          "base_uri": "https://localhost:8080/",
          "height": 426
        },
        "outputId": "8842cd68-24ad-4fb0-cb4d-3ad175289967"
      },
      "source": [
        "import pandas as pd\n",
        "\n",
        "filename = '/content/parkinson_sample.csv'\n",
        "df = pd.read_csv(filename)\n",
        "df"
      ],
      "execution_count": 4,
      "outputs": [
        {
          "output_type": "execute_result",
          "data": {
            "text/html": [
              "<div>\n",
              "<style scoped>\n",
              "    .dataframe tbody tr th:only-of-type {\n",
              "        vertical-align: middle;\n",
              "    }\n",
              "\n",
              "    .dataframe tbody tr th {\n",
              "        vertical-align: top;\n",
              "    }\n",
              "\n",
              "    .dataframe thead th {\n",
              "        text-align: right;\n",
              "    }\n",
              "</style>\n",
              "<table border=\"1\" class=\"dataframe\">\n",
              "  <thead>\n",
              "    <tr style=\"text-align: right;\">\n",
              "      <th></th>\n",
              "      <th>subject#</th>\n",
              "      <th>age</th>\n",
              "      <th>sex</th>\n",
              "      <th>test_time</th>\n",
              "      <th>motor_UPDRS</th>\n",
              "      <th>total_UPDRS</th>\n",
              "      <th>Jitter(%)</th>\n",
              "      <th>Jitter(Abs)</th>\n",
              "      <th>Jitter:RAP</th>\n",
              "      <th>Jitter:PPQ5</th>\n",
              "      <th>Jitter:DDP</th>\n",
              "      <th>Shimmer</th>\n",
              "      <th>Shimmer(dB)</th>\n",
              "      <th>Shimmer:APQ3</th>\n",
              "      <th>Shimmer:APQ5</th>\n",
              "      <th>Shimmer:APQ11</th>\n",
              "      <th>Shimmer:DDA</th>\n",
              "      <th>NHR</th>\n",
              "      <th>HNR</th>\n",
              "      <th>RPDE</th>\n",
              "      <th>DFA</th>\n",
              "      <th>PPE</th>\n",
              "    </tr>\n",
              "  </thead>\n",
              "  <tbody>\n",
              "    <tr>\n",
              "      <th>0</th>\n",
              "      <td>1</td>\n",
              "      <td>72</td>\n",
              "      <td>0</td>\n",
              "      <td>25.6470</td>\n",
              "      <td>28.905</td>\n",
              "      <td>35.810</td>\n",
              "      <td>0.00340</td>\n",
              "      <td>0.000021</td>\n",
              "      <td>0.00178</td>\n",
              "      <td>0.00162</td>\n",
              "      <td>0.00533</td>\n",
              "      <td>0.01452</td>\n",
              "      <td>0.157</td>\n",
              "      <td>0.00711</td>\n",
              "      <td>0.00765</td>\n",
              "      <td>0.00926</td>\n",
              "      <td>0.02132</td>\n",
              "      <td>0.016636</td>\n",
              "      <td>25.986</td>\n",
              "      <td>0.42271</td>\n",
              "      <td>0.56963</td>\n",
              "      <td>0.11774</td>\n",
              "    </tr>\n",
              "    <tr>\n",
              "      <th>1</th>\n",
              "      <td>1</td>\n",
              "      <td>72</td>\n",
              "      <td>0</td>\n",
              "      <td>75.6570</td>\n",
              "      <td>30.670</td>\n",
              "      <td>39.340</td>\n",
              "      <td>0.00285</td>\n",
              "      <td>0.000013</td>\n",
              "      <td>0.00109</td>\n",
              "      <td>0.00136</td>\n",
              "      <td>0.00327</td>\n",
              "      <td>0.00979</td>\n",
              "      <td>0.089</td>\n",
              "      <td>0.00456</td>\n",
              "      <td>0.00584</td>\n",
              "      <td>0.00937</td>\n",
              "      <td>0.01367</td>\n",
              "      <td>0.004981</td>\n",
              "      <td>27.984</td>\n",
              "      <td>0.35842</td>\n",
              "      <td>0.52350</td>\n",
              "      <td>0.17555</td>\n",
              "    </tr>\n",
              "    <tr>\n",
              "      <th>2</th>\n",
              "      <td>1</td>\n",
              "      <td>72</td>\n",
              "      <td>0</td>\n",
              "      <td>68.6880</td>\n",
              "      <td>30.424</td>\n",
              "      <td>38.849</td>\n",
              "      <td>0.00340</td>\n",
              "      <td>0.000017</td>\n",
              "      <td>0.00161</td>\n",
              "      <td>0.00174</td>\n",
              "      <td>0.00482</td>\n",
              "      <td>0.03739</td>\n",
              "      <td>0.316</td>\n",
              "      <td>0.02120</td>\n",
              "      <td>0.02195</td>\n",
              "      <td>0.03069</td>\n",
              "      <td>0.06360</td>\n",
              "      <td>0.005567</td>\n",
              "      <td>25.399</td>\n",
              "      <td>0.45462</td>\n",
              "      <td>0.56983</td>\n",
              "      <td>0.16291</td>\n",
              "    </tr>\n",
              "    <tr>\n",
              "      <th>3</th>\n",
              "      <td>1</td>\n",
              "      <td>72</td>\n",
              "      <td>0</td>\n",
              "      <td>61.6690</td>\n",
              "      <td>30.177</td>\n",
              "      <td>38.353</td>\n",
              "      <td>0.00432</td>\n",
              "      <td>0.000028</td>\n",
              "      <td>0.00156</td>\n",
              "      <td>0.00207</td>\n",
              "      <td>0.00468</td>\n",
              "      <td>0.04296</td>\n",
              "      <td>0.371</td>\n",
              "      <td>0.01774</td>\n",
              "      <td>0.02134</td>\n",
              "      <td>0.03451</td>\n",
              "      <td>0.05323</td>\n",
              "      <td>0.013381</td>\n",
              "      <td>22.078</td>\n",
              "      <td>0.51563</td>\n",
              "      <td>0.61864</td>\n",
              "      <td>0.20037</td>\n",
              "    </tr>\n",
              "    <tr>\n",
              "      <th>4</th>\n",
              "      <td>1</td>\n",
              "      <td>72</td>\n",
              "      <td>0</td>\n",
              "      <td>89.6370</td>\n",
              "      <td>31.309</td>\n",
              "      <td>40.412</td>\n",
              "      <td>0.00290</td>\n",
              "      <td>0.000014</td>\n",
              "      <td>0.00124</td>\n",
              "      <td>0.00142</td>\n",
              "      <td>0.00371</td>\n",
              "      <td>0.01911</td>\n",
              "      <td>0.173</td>\n",
              "      <td>0.00862</td>\n",
              "      <td>0.01156</td>\n",
              "      <td>0.01737</td>\n",
              "      <td>0.02585</td>\n",
              "      <td>0.005320</td>\n",
              "      <td>27.200</td>\n",
              "      <td>0.44967</td>\n",
              "      <td>0.54700</td>\n",
              "      <td>0.18939</td>\n",
              "    </tr>\n",
              "    <tr>\n",
              "      <th>...</th>\n",
              "      <td>...</td>\n",
              "      <td>...</td>\n",
              "      <td>...</td>\n",
              "      <td>...</td>\n",
              "      <td>...</td>\n",
              "      <td>...</td>\n",
              "      <td>...</td>\n",
              "      <td>...</td>\n",
              "      <td>...</td>\n",
              "      <td>...</td>\n",
              "      <td>...</td>\n",
              "      <td>...</td>\n",
              "      <td>...</td>\n",
              "      <td>...</td>\n",
              "      <td>...</td>\n",
              "      <td>...</td>\n",
              "      <td>...</td>\n",
              "      <td>...</td>\n",
              "      <td>...</td>\n",
              "      <td>...</td>\n",
              "      <td>...</td>\n",
              "      <td>...</td>\n",
              "    </tr>\n",
              "    <tr>\n",
              "      <th>2095</th>\n",
              "      <td>42</td>\n",
              "      <td>61</td>\n",
              "      <td>0</td>\n",
              "      <td>65.7570</td>\n",
              "      <td>24.242</td>\n",
              "      <td>34.657</td>\n",
              "      <td>0.00306</td>\n",
              "      <td>0.000025</td>\n",
              "      <td>0.00140</td>\n",
              "      <td>0.00167</td>\n",
              "      <td>0.00421</td>\n",
              "      <td>0.01811</td>\n",
              "      <td>0.167</td>\n",
              "      <td>0.00805</td>\n",
              "      <td>0.00885</td>\n",
              "      <td>0.01335</td>\n",
              "      <td>0.02416</td>\n",
              "      <td>0.019214</td>\n",
              "      <td>24.689</td>\n",
              "      <td>0.55307</td>\n",
              "      <td>0.57152</td>\n",
              "      <td>0.11229</td>\n",
              "    </tr>\n",
              "    <tr>\n",
              "      <th>2096</th>\n",
              "      <td>42</td>\n",
              "      <td>61</td>\n",
              "      <td>0</td>\n",
              "      <td>106.7600</td>\n",
              "      <td>25.029</td>\n",
              "      <td>36.029</td>\n",
              "      <td>0.00249</td>\n",
              "      <td>0.000019</td>\n",
              "      <td>0.00124</td>\n",
              "      <td>0.00123</td>\n",
              "      <td>0.00373</td>\n",
              "      <td>0.01460</td>\n",
              "      <td>0.130</td>\n",
              "      <td>0.00775</td>\n",
              "      <td>0.00868</td>\n",
              "      <td>0.01144</td>\n",
              "      <td>0.02326</td>\n",
              "      <td>0.011046</td>\n",
              "      <td>24.737</td>\n",
              "      <td>0.52205</td>\n",
              "      <td>0.57030</td>\n",
              "      <td>0.11601</td>\n",
              "    </tr>\n",
              "    <tr>\n",
              "      <th>2097</th>\n",
              "      <td>42</td>\n",
              "      <td>61</td>\n",
              "      <td>0</td>\n",
              "      <td>-4.2597</td>\n",
              "      <td>19.725</td>\n",
              "      <td>28.634</td>\n",
              "      <td>0.00352</td>\n",
              "      <td>0.000027</td>\n",
              "      <td>0.00125</td>\n",
              "      <td>0.00169</td>\n",
              "      <td>0.00376</td>\n",
              "      <td>0.01708</td>\n",
              "      <td>0.159</td>\n",
              "      <td>0.00739</td>\n",
              "      <td>0.00914</td>\n",
              "      <td>0.01465</td>\n",
              "      <td>0.02216</td>\n",
              "      <td>0.009635</td>\n",
              "      <td>24.315</td>\n",
              "      <td>0.58904</td>\n",
              "      <td>0.57961</td>\n",
              "      <td>0.16296</td>\n",
              "    </tr>\n",
              "    <tr>\n",
              "      <th>2098</th>\n",
              "      <td>42</td>\n",
              "      <td>61</td>\n",
              "      <td>0</td>\n",
              "      <td>115.6500</td>\n",
              "      <td>24.402</td>\n",
              "      <td>35.402</td>\n",
              "      <td>0.00769</td>\n",
              "      <td>0.000066</td>\n",
              "      <td>0.00407</td>\n",
              "      <td>0.00425</td>\n",
              "      <td>0.01222</td>\n",
              "      <td>0.01657</td>\n",
              "      <td>0.162</td>\n",
              "      <td>0.00789</td>\n",
              "      <td>0.00892</td>\n",
              "      <td>0.01439</td>\n",
              "      <td>0.02367</td>\n",
              "      <td>0.062794</td>\n",
              "      <td>23.240</td>\n",
              "      <td>0.54095</td>\n",
              "      <td>0.59527</td>\n",
              "      <td>0.15142</td>\n",
              "    </tr>\n",
              "    <tr>\n",
              "      <th>2099</th>\n",
              "      <td>42</td>\n",
              "      <td>61</td>\n",
              "      <td>0</td>\n",
              "      <td>156.8200</td>\n",
              "      <td>21.495</td>\n",
              "      <td>32.495</td>\n",
              "      <td>0.00387</td>\n",
              "      <td>0.000032</td>\n",
              "      <td>0.00186</td>\n",
              "      <td>0.00213</td>\n",
              "      <td>0.00557</td>\n",
              "      <td>0.02603</td>\n",
              "      <td>0.221</td>\n",
              "      <td>0.01345</td>\n",
              "      <td>0.01573</td>\n",
              "      <td>0.02115</td>\n",
              "      <td>0.04035</td>\n",
              "      <td>0.008337</td>\n",
              "      <td>23.411</td>\n",
              "      <td>0.44308</td>\n",
              "      <td>0.64552</td>\n",
              "      <td>0.17985</td>\n",
              "    </tr>\n",
              "  </tbody>\n",
              "</table>\n",
              "<p>2100 rows × 22 columns</p>\n",
              "</div>"
            ],
            "text/plain": [
              "      subject#  age  sex  test_time  ...     HNR     RPDE      DFA      PPE\n",
              "0            1   72    0    25.6470  ...  25.986  0.42271  0.56963  0.11774\n",
              "1            1   72    0    75.6570  ...  27.984  0.35842  0.52350  0.17555\n",
              "2            1   72    0    68.6880  ...  25.399  0.45462  0.56983  0.16291\n",
              "3            1   72    0    61.6690  ...  22.078  0.51563  0.61864  0.20037\n",
              "4            1   72    0    89.6370  ...  27.200  0.44967  0.54700  0.18939\n",
              "...        ...  ...  ...        ...  ...     ...      ...      ...      ...\n",
              "2095        42   61    0    65.7570  ...  24.689  0.55307  0.57152  0.11229\n",
              "2096        42   61    0   106.7600  ...  24.737  0.52205  0.57030  0.11601\n",
              "2097        42   61    0    -4.2597  ...  24.315  0.58904  0.57961  0.16296\n",
              "2098        42   61    0   115.6500  ...  23.240  0.54095  0.59527  0.15142\n",
              "2099        42   61    0   156.8200  ...  23.411  0.44308  0.64552  0.17985\n",
              "\n",
              "[2100 rows x 22 columns]"
            ]
          },
          "metadata": {
            "tags": []
          },
          "execution_count": 4
        }
      ]
    },
    {
      "cell_type": "markdown",
      "metadata": {
        "id": "7eE0U2fJFIjT",
        "colab_type": "text"
      },
      "source": [
        "# Data Distribution"
      ]
    },
    {
      "cell_type": "code",
      "metadata": {
        "id": "eNw6AxNPFFUk",
        "colab_type": "code",
        "colab": {
          "base_uri": "https://localhost:8080/",
          "height": 307
        },
        "outputId": "a8c55503-f151-4909-c038-8cb4f12afd57"
      },
      "source": [
        "df.describe()"
      ],
      "execution_count": 5,
      "outputs": [
        {
          "output_type": "execute_result",
          "data": {
            "text/html": [
              "<div>\n",
              "<style scoped>\n",
              "    .dataframe tbody tr th:only-of-type {\n",
              "        vertical-align: middle;\n",
              "    }\n",
              "\n",
              "    .dataframe tbody tr th {\n",
              "        vertical-align: top;\n",
              "    }\n",
              "\n",
              "    .dataframe thead th {\n",
              "        text-align: right;\n",
              "    }\n",
              "</style>\n",
              "<table border=\"1\" class=\"dataframe\">\n",
              "  <thead>\n",
              "    <tr style=\"text-align: right;\">\n",
              "      <th></th>\n",
              "      <th>subject#</th>\n",
              "      <th>age</th>\n",
              "      <th>sex</th>\n",
              "      <th>test_time</th>\n",
              "      <th>motor_UPDRS</th>\n",
              "      <th>total_UPDRS</th>\n",
              "      <th>Jitter(%)</th>\n",
              "      <th>Jitter(Abs)</th>\n",
              "      <th>Jitter:RAP</th>\n",
              "      <th>Jitter:PPQ5</th>\n",
              "      <th>Jitter:DDP</th>\n",
              "      <th>Shimmer</th>\n",
              "      <th>Shimmer(dB)</th>\n",
              "      <th>Shimmer:APQ3</th>\n",
              "      <th>Shimmer:APQ5</th>\n",
              "      <th>Shimmer:APQ11</th>\n",
              "      <th>Shimmer:DDA</th>\n",
              "      <th>NHR</th>\n",
              "      <th>HNR</th>\n",
              "      <th>RPDE</th>\n",
              "      <th>DFA</th>\n",
              "      <th>PPE</th>\n",
              "    </tr>\n",
              "  </thead>\n",
              "  <tbody>\n",
              "    <tr>\n",
              "      <th>count</th>\n",
              "      <td>2100.000000</td>\n",
              "      <td>2100.000000</td>\n",
              "      <td>2100.000000</td>\n",
              "      <td>2100.000000</td>\n",
              "      <td>2100.000000</td>\n",
              "      <td>2100.000000</td>\n",
              "      <td>2100.000000</td>\n",
              "      <td>2100.000000</td>\n",
              "      <td>2100.000000</td>\n",
              "      <td>2100.000000</td>\n",
              "      <td>2100.000000</td>\n",
              "      <td>2100.000000</td>\n",
              "      <td>2100.000000</td>\n",
              "      <td>2100.000000</td>\n",
              "      <td>2100.000000</td>\n",
              "      <td>2100.000000</td>\n",
              "      <td>2100.000000</td>\n",
              "      <td>2100.000000</td>\n",
              "      <td>2100.000000</td>\n",
              "      <td>2100.000000</td>\n",
              "      <td>2100.000000</td>\n",
              "      <td>2100.000000</td>\n",
              "    </tr>\n",
              "    <tr>\n",
              "      <th>mean</th>\n",
              "      <td>21.500000</td>\n",
              "      <td>64.404762</td>\n",
              "      <td>0.333333</td>\n",
              "      <td>93.393790</td>\n",
              "      <td>20.961148</td>\n",
              "      <td>28.525276</td>\n",
              "      <td>0.006031</td>\n",
              "      <td>0.000043</td>\n",
              "      <td>0.002920</td>\n",
              "      <td>0.003212</td>\n",
              "      <td>0.008759</td>\n",
              "      <td>0.033489</td>\n",
              "      <td>0.305911</td>\n",
              "      <td>0.016903</td>\n",
              "      <td>0.019812</td>\n",
              "      <td>0.027102</td>\n",
              "      <td>0.050710</td>\n",
              "      <td>0.031594</td>\n",
              "      <td>21.747740</td>\n",
              "      <td>0.538971</td>\n",
              "      <td>0.652299</td>\n",
              "      <td>0.217377</td>\n",
              "    </tr>\n",
              "    <tr>\n",
              "      <th>std</th>\n",
              "      <td>12.123806</td>\n",
              "      <td>9.131039</td>\n",
              "      <td>0.471517</td>\n",
              "      <td>53.669701</td>\n",
              "      <td>8.129757</td>\n",
              "      <td>10.673869</td>\n",
              "      <td>0.005389</td>\n",
              "      <td>0.000034</td>\n",
              "      <td>0.002997</td>\n",
              "      <td>0.003691</td>\n",
              "      <td>0.008992</td>\n",
              "      <td>0.026101</td>\n",
              "      <td>0.232377</td>\n",
              "      <td>0.013523</td>\n",
              "      <td>0.016926</td>\n",
              "      <td>0.020530</td>\n",
              "      <td>0.040568</td>\n",
              "      <td>0.060153</td>\n",
              "      <td>4.292231</td>\n",
              "      <td>0.102144</td>\n",
              "      <td>0.070405</td>\n",
              "      <td>0.092894</td>\n",
              "    </tr>\n",
              "    <tr>\n",
              "      <th>min</th>\n",
              "      <td>1.000000</td>\n",
              "      <td>36.000000</td>\n",
              "      <td>0.000000</td>\n",
              "      <td>-4.262500</td>\n",
              "      <td>5.037700</td>\n",
              "      <td>7.000000</td>\n",
              "      <td>0.000900</td>\n",
              "      <td>0.000002</td>\n",
              "      <td>0.000400</td>\n",
              "      <td>0.000450</td>\n",
              "      <td>0.001210</td>\n",
              "      <td>0.003060</td>\n",
              "      <td>0.026000</td>\n",
              "      <td>0.001610</td>\n",
              "      <td>0.001940</td>\n",
              "      <td>0.002490</td>\n",
              "      <td>0.004840</td>\n",
              "      <td>0.000304</td>\n",
              "      <td>1.659000</td>\n",
              "      <td>0.151020</td>\n",
              "      <td>0.519770</td>\n",
              "      <td>0.021983</td>\n",
              "    </tr>\n",
              "    <tr>\n",
              "      <th>25%</th>\n",
              "      <td>11.000000</td>\n",
              "      <td>58.000000</td>\n",
              "      <td>0.000000</td>\n",
              "      <td>47.217750</td>\n",
              "      <td>14.780000</td>\n",
              "      <td>21.110000</td>\n",
              "      <td>0.003490</td>\n",
              "      <td>0.000022</td>\n",
              "      <td>0.001558</td>\n",
              "      <td>0.001760</td>\n",
              "      <td>0.004668</td>\n",
              "      <td>0.018688</td>\n",
              "      <td>0.170000</td>\n",
              "      <td>0.008998</td>\n",
              "      <td>0.010530</td>\n",
              "      <td>0.015357</td>\n",
              "      <td>0.026985</td>\n",
              "      <td>0.010521</td>\n",
              "      <td>19.500250</td>\n",
              "      <td>0.465392</td>\n",
              "      <td>0.595222</td>\n",
              "      <td>0.152380</td>\n",
              "    </tr>\n",
              "    <tr>\n",
              "      <th>50%</th>\n",
              "      <td>21.500000</td>\n",
              "      <td>65.000000</td>\n",
              "      <td>0.000000</td>\n",
              "      <td>92.333000</td>\n",
              "      <td>20.470000</td>\n",
              "      <td>27.213500</td>\n",
              "      <td>0.004770</td>\n",
              "      <td>0.000033</td>\n",
              "      <td>0.002200</td>\n",
              "      <td>0.002420</td>\n",
              "      <td>0.006590</td>\n",
              "      <td>0.026980</td>\n",
              "      <td>0.247000</td>\n",
              "      <td>0.013430</td>\n",
              "      <td>0.015570</td>\n",
              "      <td>0.022205</td>\n",
              "      <td>0.040295</td>\n",
              "      <td>0.017671</td>\n",
              "      <td>21.982000</td>\n",
              "      <td>0.540975</td>\n",
              "      <td>0.642460</td>\n",
              "      <td>0.200170</td>\n",
              "    </tr>\n",
              "    <tr>\n",
              "      <th>75%</th>\n",
              "      <td>32.000000</td>\n",
              "      <td>72.000000</td>\n",
              "      <td>1.000000</td>\n",
              "      <td>140.320000</td>\n",
              "      <td>27.038250</td>\n",
              "      <td>35.392250</td>\n",
              "      <td>0.006632</td>\n",
              "      <td>0.000052</td>\n",
              "      <td>0.003250</td>\n",
              "      <td>0.003420</td>\n",
              "      <td>0.009750</td>\n",
              "      <td>0.039350</td>\n",
              "      <td>0.362000</td>\n",
              "      <td>0.020390</td>\n",
              "      <td>0.023428</td>\n",
              "      <td>0.032445</td>\n",
              "      <td>0.061173</td>\n",
              "      <td>0.030516</td>\n",
              "      <td>24.491250</td>\n",
              "      <td>0.613270</td>\n",
              "      <td>0.708835</td>\n",
              "      <td>0.263622</td>\n",
              "    </tr>\n",
              "    <tr>\n",
              "      <th>max</th>\n",
              "      <td>42.000000</td>\n",
              "      <td>85.000000</td>\n",
              "      <td>1.000000</td>\n",
              "      <td>215.490000</td>\n",
              "      <td>39.511000</td>\n",
              "      <td>54.992000</td>\n",
              "      <td>0.089290</td>\n",
              "      <td>0.000389</td>\n",
              "      <td>0.057540</td>\n",
              "      <td>0.069560</td>\n",
              "      <td>0.172630</td>\n",
              "      <td>0.239150</td>\n",
              "      <td>1.970000</td>\n",
              "      <td>0.162670</td>\n",
              "      <td>0.167020</td>\n",
              "      <td>0.275460</td>\n",
              "      <td>0.488020</td>\n",
              "      <td>0.748260</td>\n",
              "      <td>37.187000</td>\n",
              "      <td>0.935070</td>\n",
              "      <td>0.865600</td>\n",
              "      <td>0.731520</td>\n",
              "    </tr>\n",
              "  </tbody>\n",
              "</table>\n",
              "</div>"
            ],
            "text/plain": [
              "          subject#          age  ...          DFA          PPE\n",
              "count  2100.000000  2100.000000  ...  2100.000000  2100.000000\n",
              "mean     21.500000    64.404762  ...     0.652299     0.217377\n",
              "std      12.123806     9.131039  ...     0.070405     0.092894\n",
              "min       1.000000    36.000000  ...     0.519770     0.021983\n",
              "25%      11.000000    58.000000  ...     0.595222     0.152380\n",
              "50%      21.500000    65.000000  ...     0.642460     0.200170\n",
              "75%      32.000000    72.000000  ...     0.708835     0.263622\n",
              "max      42.000000    85.000000  ...     0.865600     0.731520\n",
              "\n",
              "[8 rows x 22 columns]"
            ]
          },
          "metadata": {
            "tags": []
          },
          "execution_count": 5
        }
      ]
    },
    {
      "cell_type": "markdown",
      "metadata": {
        "id": "G4DtGD-AFNYg",
        "colab_type": "text"
      },
      "source": [
        "# Total number of features"
      ]
    },
    {
      "cell_type": "code",
      "metadata": {
        "id": "8t-9y9-hFKRo",
        "colab_type": "code",
        "colab": {
          "base_uri": "https://localhost:8080/",
          "height": 34
        },
        "outputId": "d959a8c6-49c5-4165-bfe3-12274b3ae6ef"
      },
      "source": [
        "all_columns = list(df.columns)\n",
        "len(all_columns)"
      ],
      "execution_count": 6,
      "outputs": [
        {
          "output_type": "execute_result",
          "data": {
            "text/plain": [
              "22"
            ]
          },
          "metadata": {
            "tags": []
          },
          "execution_count": 6
        }
      ]
    },
    {
      "cell_type": "markdown",
      "metadata": {
        "id": "McT2mrkTFTCS",
        "colab_type": "text"
      },
      "source": [
        "# Total number of empty data in each features\n"
      ]
    },
    {
      "cell_type": "code",
      "metadata": {
        "id": "iId3EVw_FPKx",
        "colab_type": "code",
        "colab": {
          "base_uri": "https://localhost:8080/",
          "height": 425
        },
        "outputId": "275420b2-cdd5-4b50-f83a-eec66e9caa9e"
      },
      "source": [
        "df.isna().sum()"
      ],
      "execution_count": 7,
      "outputs": [
        {
          "output_type": "execute_result",
          "data": {
            "text/plain": [
              "subject#         0\n",
              "age              0\n",
              "sex              0\n",
              "test_time        0\n",
              "motor_UPDRS      0\n",
              "total_UPDRS      0\n",
              "Jitter(%)        0\n",
              "Jitter(Abs)      0\n",
              "Jitter:RAP       0\n",
              "Jitter:PPQ5      0\n",
              "Jitter:DDP       0\n",
              "Shimmer          0\n",
              "Shimmer(dB)      0\n",
              "Shimmer:APQ3     0\n",
              "Shimmer:APQ5     0\n",
              "Shimmer:APQ11    0\n",
              "Shimmer:DDA      0\n",
              "NHR              0\n",
              "HNR              0\n",
              "RPDE             0\n",
              "DFA              0\n",
              "PPE              0\n",
              "dtype: int64"
            ]
          },
          "metadata": {
            "tags": []
          },
          "execution_count": 7
        }
      ]
    },
    {
      "cell_type": "markdown",
      "metadata": {
        "id": "xB5Z1NX_FcEv",
        "colab_type": "text"
      },
      "source": [
        "# Co-Relation between the dataset"
      ]
    },
    {
      "cell_type": "code",
      "metadata": {
        "id": "vyTCBHTbFVWk",
        "colab_type": "code",
        "colab": {
          "base_uri": "https://localhost:8080/",
          "height": 341
        },
        "outputId": "eebc58ce-861b-4bd3-8bbf-dcd1a667b63d"
      },
      "source": [
        "import seaborn as sns\n",
        "\n",
        "#correlation matrix\n",
        "sns.heatmap(df.corr());"
      ],
      "execution_count": 8,
      "outputs": [
        {
          "output_type": "display_data",
          "data": {
            "image/png": "[encoded data removed]",
            "text/plain": [
              "<Figure size 432x288 with 2 Axes>"
            ]
          },
          "metadata": {
            "tags": []
          }
        }
      ]
    },
    {
      "cell_type": "markdown",
      "metadata": {
        "id": "janfUl_SFgFK",
        "colab_type": "text"
      },
      "source": [
        "# Checking for outliers"
      ]
    },
    {
      "cell_type": "code",
      "metadata": {
        "id": "fnHmTe6gFdYO",
        "colab_type": "code",
        "colab": {
          "base_uri": "https://localhost:8080/",
          "height": 283
        },
        "outputId": "2e0e1a49-e7b0-4155-b05f-9c97a63f849a"
      },
      "source": [
        "df.boxplot()"
      ],
      "execution_count": 9,
      "outputs": [
        {
          "output_type": "execute_result",
          "data": {
            "text/plain": [
              "<matplotlib.axes._subplots.AxesSubplot at 0x7f01a9643c88>"
            ]
          },
          "metadata": {
            "tags": []
          },
          "execution_count": 9
        },
        {
          "output_type": "display_data",
          "data": {
            "image/png": "[encoded data removed]",
            "text/plain": [
              "<Figure size 432x288 with 1 Axes>"
            ]
          },
          "metadata": {
            "tags": []
          }
        }
      ]
    },
    {
      "cell_type": "code",
      "metadata": {
        "id": "sKhnnUE0FhjH",
        "colab_type": "code",
        "colab": {
          "base_uri": "https://localhost:8080/",
          "height": 127
        },
        "outputId": "7f09b053-dc8f-44e5-ccb5-17d30efae1d5"
      },
      "source": [
        "df.head(2)"
      ],
      "execution_count": 10,
      "outputs": [
        {
          "output_type": "execute_result",
          "data": {
            "text/html": [
              "<div>\n",
              "<style scoped>\n",
              "    .dataframe tbody tr th:only-of-type {\n",
              "        vertical-align: middle;\n",
              "    }\n",
              "\n",
              "    .dataframe tbody tr th {\n",
              "        vertical-align: top;\n",
              "    }\n",
              "\n",
              "    .dataframe thead th {\n",
              "        text-align: right;\n",
              "    }\n",
              "</style>\n",
              "<table border=\"1\" class=\"dataframe\">\n",
              "  <thead>\n",
              "    <tr style=\"text-align: right;\">\n",
              "      <th></th>\n",
              "      <th>subject#</th>\n",
              "      <th>age</th>\n",
              "      <th>sex</th>\n",
              "      <th>test_time</th>\n",
              "      <th>motor_UPDRS</th>\n",
              "      <th>total_UPDRS</th>\n",
              "      <th>Jitter(%)</th>\n",
              "      <th>Jitter(Abs)</th>\n",
              "      <th>Jitter:RAP</th>\n",
              "      <th>Jitter:PPQ5</th>\n",
              "      <th>Jitter:DDP</th>\n",
              "      <th>Shimmer</th>\n",
              "      <th>Shimmer(dB)</th>\n",
              "      <th>Shimmer:APQ3</th>\n",
              "      <th>Shimmer:APQ5</th>\n",
              "      <th>Shimmer:APQ11</th>\n",
              "      <th>Shimmer:DDA</th>\n",
              "      <th>NHR</th>\n",
              "      <th>HNR</th>\n",
              "      <th>RPDE</th>\n",
              "      <th>DFA</th>\n",
              "      <th>PPE</th>\n",
              "    </tr>\n",
              "  </thead>\n",
              "  <tbody>\n",
              "    <tr>\n",
              "      <th>0</th>\n",
              "      <td>1</td>\n",
              "      <td>72</td>\n",
              "      <td>0</td>\n",
              "      <td>25.647</td>\n",
              "      <td>28.905</td>\n",
              "      <td>35.81</td>\n",
              "      <td>0.00340</td>\n",
              "      <td>0.000021</td>\n",
              "      <td>0.00178</td>\n",
              "      <td>0.00162</td>\n",
              "      <td>0.00533</td>\n",
              "      <td>0.01452</td>\n",
              "      <td>0.157</td>\n",
              "      <td>0.00711</td>\n",
              "      <td>0.00765</td>\n",
              "      <td>0.00926</td>\n",
              "      <td>0.02132</td>\n",
              "      <td>0.016636</td>\n",
              "      <td>25.986</td>\n",
              "      <td>0.42271</td>\n",
              "      <td>0.56963</td>\n",
              "      <td>0.11774</td>\n",
              "    </tr>\n",
              "    <tr>\n",
              "      <th>1</th>\n",
              "      <td>1</td>\n",
              "      <td>72</td>\n",
              "      <td>0</td>\n",
              "      <td>75.657</td>\n",
              "      <td>30.670</td>\n",
              "      <td>39.34</td>\n",
              "      <td>0.00285</td>\n",
              "      <td>0.000013</td>\n",
              "      <td>0.00109</td>\n",
              "      <td>0.00136</td>\n",
              "      <td>0.00327</td>\n",
              "      <td>0.00979</td>\n",
              "      <td>0.089</td>\n",
              "      <td>0.00456</td>\n",
              "      <td>0.00584</td>\n",
              "      <td>0.00937</td>\n",
              "      <td>0.01367</td>\n",
              "      <td>0.004981</td>\n",
              "      <td>27.984</td>\n",
              "      <td>0.35842</td>\n",
              "      <td>0.52350</td>\n",
              "      <td>0.17555</td>\n",
              "    </tr>\n",
              "  </tbody>\n",
              "</table>\n",
              "</div>"
            ],
            "text/plain": [
              "   subject#  age  sex  test_time  ...     HNR     RPDE      DFA      PPE\n",
              "0         1   72    0     25.647  ...  25.986  0.42271  0.56963  0.11774\n",
              "1         1   72    0     75.657  ...  27.984  0.35842  0.52350  0.17555\n",
              "\n",
              "[2 rows x 22 columns]"
            ]
          },
          "metadata": {
            "tags": []
          },
          "execution_count": 10
        }
      ]
    },
    {
      "cell_type": "markdown",
      "metadata": {
        "id": "ixXaiQCnFqxk",
        "colab_type": "text"
      },
      "source": [
        "# Plotting distribution over five columns each over (num_colms/5)+1 times"
      ]
    },
    {
      "cell_type": "code",
      "metadata": {
        "id": "7DQqYyBgFlfx",
        "colab_type": "code",
        "colab": {
          "base_uri": "https://localhost:8080/",
          "height": 1000
        },
        "outputId": "8e4aa4c8-cbb6-4870-80e4-7d30df3e232d"
      },
      "source": [
        "import matplotlib.pyplot as plt\n",
        "\n",
        "groups = [['subject#', 'motor_UPDRS'], ['total_UPDRS', 'Jitter:PPQ5'], ['Jitter:DDP', 'Shimmer:DDA'], ['NHR', 'PPE']]\n",
        "for fields in groups:\n",
        "  df.loc[:, fields[0]:fields[1]].boxplot(figsize=(30,5))\n",
        "  plt.show()"
      ],
      "execution_count": 11,
      "outputs": [
        {
          "output_type": "display_data",
          "data": {
            "image/png": "[encoded data removed]",
            "text/plain": [
              "<Figure size 2160x360 with 1 Axes>"
            ]
          },
          "metadata": {
            "tags": []
          }
        },
        {
          "output_type": "display_data",
          "data": {
            "image/png": "[encoded data removed]",
            "text/plain": [
              "<Figure size 2160x360 with 1 Axes>"
            ]
          },
          "metadata": {
            "tags": []
          }
        },
        {
          "output_type": "display_data",
          "data": {
            "image/png": "[encoded data removed]",
            "text/plain": [
              "<Figure size 2160x360 with 1 Axes>"
            ]
          },
          "metadata": {
            "tags": []
          }
        },
        {
          "output_type": "display_data",
          "data": {
            "image/png": "[encoded data removed]",
            "text/plain": [
              "<Figure size 2160x360 with 1 Axes>"
            ]
          },
          "metadata": {
            "tags": []
          }
        }
      ]
    },
    {
      "cell_type": "code",
      "metadata": {
        "id": "8kvzzxLIFsdf",
        "colab_type": "code",
        "colab": {
          "base_uri": "https://localhost:8080/",
          "height": 247
        },
        "outputId": "1bbe8e7c-ea28-4d32-89d1-9fb813681d2a"
      },
      "source": [
        "outliers = ['Jitter:DDP', 'Shimmer', 'Shimmer(dB)', 'Shimmer:APQ3', 'Shimmer:APQ5', 'Shimmer:APQ11', 'Shimmer:DDA', 'HNR', 'NHR']\n",
        "non_outliers = list(set(all_columns) - set(outliers))\n",
        "non_outliers"
      ],
      "execution_count": 12,
      "outputs": [
        {
          "output_type": "execute_result",
          "data": {
            "text/plain": [
              "['test_time',\n",
              " 'Jitter:RAP',\n",
              " 'total_UPDRS',\n",
              " 'subject#',\n",
              " 'age',\n",
              " 'DFA',\n",
              " 'Jitter:PPQ5',\n",
              " 'motor_UPDRS',\n",
              " 'PPE',\n",
              " 'sex',\n",
              " 'Jitter(Abs)',\n",
              " 'RPDE',\n",
              " 'Jitter(%)']"
            ]
          },
          "metadata": {
            "tags": []
          },
          "execution_count": 12
        }
      ]
    },
    {
      "cell_type": "markdown",
      "metadata": {
        "id": "DVmwtBXJF1hh",
        "colab_type": "text"
      },
      "source": [
        "# Normalization"
      ]
    },
    {
      "cell_type": "code",
      "metadata": {
        "id": "ZNicGS2MFvDG",
        "colab_type": "code",
        "colab": {}
      },
      "source": [
        "import numpy as np\n",
        "from sklearn.preprocessing import RobustScaler\n",
        "from sklearn.preprocessing import MinMaxScaler"
      ],
      "execution_count": 0,
      "outputs": []
    },
    {
      "cell_type": "code",
      "metadata": {
        "id": "4KeeHm9YF4aK",
        "colab_type": "code",
        "colab": {}
      },
      "source": [
        "orig_df = df.copy()\n",
        "robust_df = df.copy()\n",
        "minmax_df = df.copy()"
      ],
      "execution_count": 0,
      "outputs": []
    },
    {
      "cell_type": "markdown",
      "metadata": {
        "id": "bMPpgQ22F9ml",
        "colab_type": "text"
      },
      "source": [
        "Method 1:\n",
        "  - np.log\n",
        "  - RobusSclar"
      ]
    },
    {
      "cell_type": "code",
      "metadata": {
        "id": "xMVaml6CF5pd",
        "colab_type": "code",
        "colab": {}
      },
      "source": [
        "def method_1_scaling(df):\n",
        "  for outlier in outliers:\n",
        "    robust_df[outlier] = np.log(getattr(df, outlier))\n",
        "\n",
        "  robust_scaler = RobustScaler()\n",
        "  df[all_columns] = robust_scaler.fit_transform(df[all_columns])\n",
        "  return df"
      ],
      "execution_count": 0,
      "outputs": []
    },
    {
      "cell_type": "markdown",
      "metadata": {
        "id": "ZpQVE2RiGB2b",
        "colab_type": "text"
      },
      "source": [
        "Method 2:\n",
        " - MinMaxScaler"
      ]
    },
    {
      "cell_type": "code",
      "metadata": {
        "id": "G_xqeWWcF_j-",
        "colab_type": "code",
        "colab": {}
      },
      "source": [
        "def method_2_scaling(df):\n",
        "  scaler = MinMaxScaler()\n",
        "  df[all_columns] = scaler.fit_transform(df[all_columns])\n",
        "  return df"
      ],
      "execution_count": 0,
      "outputs": []
    },
    {
      "cell_type": "code",
      "metadata": {
        "id": "keA7o-rsGe3I",
        "colab_type": "code",
        "colab": {}
      },
      "source": [
        "robust_df = method_1_scaling(robust_df)\n",
        "minmax_df = method_2_scaling(minmax_df)"
      ],
      "execution_count": 0,
      "outputs": []
    },
    {
      "cell_type": "code",
      "metadata": {
        "id": "AuPEbN8lGqSc",
        "colab_type": "code",
        "colab": {}
      },
      "source": [
        "robust_df.to_csv('robust_scaler.csv')\n",
        "minmax_df.to_csv('minmax_scaler.csv')\n",
        "orig_df.to_csv('orig.csv')"
      ],
      "execution_count": 0,
      "outputs": []
    },
    {
      "cell_type": "code",
      "metadata": {
        "id": "t6cFCahiGtMx",
        "colab_type": "code",
        "colab": {
          "base_uri": "https://localhost:8080/",
          "height": 52
        },
        "outputId": "e2da1528-4683-453f-96aa-8380398ac7a6"
      },
      "source": [
        "!ls"
      ],
      "execution_count": 19,
      "outputs": [
        {
          "output_type": "stream",
          "text": [
            "minmax_scaler.csv  parkinson_sample.csv  sample_data\n",
            "orig.csv\t   robust_scaler.csv\n"
          ],
          "name": "stdout"
        }
      ]
    },
    {
      "cell_type": "markdown",
      "metadata": {
        "id": "CAM0Y5XgG2Fu",
        "colab_type": "text"
      },
      "source": [
        "# Analysing data with both dataset with RobustScaler and MinMaxScaler\n",
        "\n",
        "## RobustScaler Pairplot Analysis\n",
        "\n",
        "For outliers datasets"
      ]
    },
    {
      "cell_type": "code",
      "metadata": {
        "id": "BvlSJdHkGuen",
        "colab_type": "code",
        "colab": {}
      },
      "source": [
        "# # note that by applying the method dropna() we drop all rows with missing values \n",
        "# sns.pairplot(data=robust_df[outliers].dropna())\n",
        "# plt.show()"
      ],
      "execution_count": 0,
      "outputs": []
    },
    {
      "cell_type": "markdown",
      "metadata": {
        "id": "xTA9drJNG_ix",
        "colab_type": "text"
      },
      "source": [
        "# note that by applying the method dropna() we drop all rows with missing values "
      ]
    },
    {
      "cell_type": "code",
      "metadata": {
        "id": "yZuZy8xjHIyl",
        "colab_type": "code",
        "colab": {}
      },
      "source": [
        "# # note that by applying the method dropna() we drop all rows with missing values \n",
        "# sns.pairplot(data=robust_df[non_outliers].dropna())\n",
        "# plt.show()"
      ],
      "execution_count": 0,
      "outputs": []
    },
    {
      "cell_type": "markdown",
      "metadata": {
        "id": "EP3w3JsyHFOm",
        "colab_type": "text"
      },
      "source": [
        "## MinMaxScaler Pairplot Analysis\n",
        "\n",
        "For Outlier"
      ]
    },
    {
      "cell_type": "code",
      "metadata": {
        "id": "mRWXyKN8G0tO",
        "colab_type": "code",
        "colab": {}
      },
      "source": [
        "# # note that by applying the method dropna() we drop all rows with missing values \n",
        "# sns.pairplot(data=minmax_df[outliers].dropna())\n",
        "# plt.show()"
      ],
      "execution_count": 0,
      "outputs": []
    },
    {
      "cell_type": "markdown",
      "metadata": {
        "id": "Ti3DKRNzHUzp",
        "colab_type": "text"
      },
      "source": [
        "For non Outliers datasets"
      ]
    },
    {
      "cell_type": "code",
      "metadata": {
        "id": "BVpQavZXHUE2",
        "colab_type": "code",
        "colab": {}
      },
      "source": [
        "# # note that by applying the method dropna() we drop all rows with missing values \n",
        "# sns.pairplot(data=minmax_df[non_outliers].dropna())\n",
        "# plt.show()"
      ],
      "execution_count": 0,
      "outputs": []
    },
    {
      "cell_type": "markdown",
      "metadata": {
        "id": "--_Bb3LyHbm-",
        "colab_type": "text"
      },
      "source": [
        "# Histograms\n",
        "\n",
        "RobustScaler"
      ]
    },
    {
      "cell_type": "code",
      "metadata": {
        "id": "1BelQ4lcHZNQ",
        "colab_type": "code",
        "colab": {
          "base_uri": "https://localhost:8080/",
          "height": 278
        },
        "outputId": "34320f00-7dd8-4e0f-b3ac-8214dda9324f"
      },
      "source": [
        "robust_df['HNR'].hist(bins=50)\n",
        "plt.xlabel('HNR')\n",
        "plt.ylabel('Distribution')\n",
        "plt.show()"
      ],
      "execution_count": 24,
      "outputs": [
        {
          "output_type": "display_data",
          "data": {
            "image/png": "[encoded data removed]",
            "text/plain": [
              "<Figure size 432x288 with 1 Axes>"
            ]
          },
          "metadata": {
            "tags": []
          }
        }
      ]
    },
    {
      "cell_type": "markdown",
      "metadata": {
        "id": "OIXEVvBtHg9a",
        "colab_type": "text"
      },
      "source": [
        "MinMaxScaler"
      ]
    },
    {
      "cell_type": "code",
      "metadata": {
        "id": "GxfiqvXVHgC7",
        "colab_type": "code",
        "colab": {
          "base_uri": "https://localhost:8080/",
          "height": 278
        },
        "outputId": "042124b9-facb-4683-e5fe-6ed6c2522de1"
      },
      "source": [
        "minmax_df['HNR'].hist(bins=50)\n",
        "plt.xlabel('HNR')\n",
        "plt.ylabel('Distribution')\n",
        "plt.show()"
      ],
      "execution_count": 25,
      "outputs": [
        {
          "output_type": "display_data",
          "data": {
            "image/png": "[encoded data removed]",
            "text/plain": [
              "<Figure size 432x288 with 1 Axes>"
            ]
          },
          "metadata": {
            "tags": []
          }
        }
      ]
    },
    {
      "cell_type": "markdown",
      "metadata": {
        "id": "ozueUKs6Hl4x",
        "colab_type": "text"
      },
      "source": [
        "Original"
      ]
    },
    {
      "cell_type": "code",
      "metadata": {
        "id": "MsiuIZhzHj3s",
        "colab_type": "code",
        "colab": {
          "base_uri": "https://localhost:8080/",
          "height": 278
        },
        "outputId": "d9241699-4f2b-442e-b8de-9920c4b94784"
      },
      "source": [
        "orig_df['HNR'].hist(bins=50)\n",
        "plt.xlabel('HNR')\n",
        "plt.ylabel('Distribution')\n",
        "plt.show()"
      ],
      "execution_count": 26,
      "outputs": [
        {
          "output_type": "display_data",
          "data": {
            "image/png": "[encoded data removed]",
            "text/plain": [
              "<Figure size 432x288 with 1 Axes>"
            ]
          },
          "metadata": {
            "tags": []
          }
        }
      ]
    },
    {
      "cell_type": "code",
      "metadata": {
        "id": "KxeE3JuPHnVI",
        "colab_type": "code",
        "colab": {}
      },
      "source": [
        "orig_df = pd.read_csv('orig.csv')\n",
        "robust_df = pd.read_csv('robust_scaler.csv')\n",
        "minmax_df = pd.read_csv('minmax_scaler.csv')"
      ],
      "execution_count": 0,
      "outputs": []
    },
    {
      "cell_type": "markdown",
      "metadata": {
        "id": "g_JEmNrVHsyx",
        "colab_type": "text"
      },
      "source": [
        "# From the Above it is evident that, data is getting skwed in first method. Later for the prediction, minmax_scaler datasets will be used\n",
        "\n",
        "---\n",
        "\n",
        "\n",
        "\n",
        "---\n",
        "\n"
      ]
    },
    {
      "cell_type": "markdown",
      "metadata": {
        "id": "uP7qLCPqHw3g",
        "colab_type": "text"
      },
      "source": [
        "# K-Means Clustering"
      ]
    },
    {
      "cell_type": "code",
      "metadata": {
        "id": "MqehLAmUHqCW",
        "colab_type": "code",
        "colab": {}
      },
      "source": [
        "from sklearn import manifold #needed for multidimensional scaling (MDS) and t-SNE\n",
        "from sklearn import cluster #needed for k-Means clustering\n",
        "from sklearn import preprocessing #needed for scaling attributes to the nterval [0,1]"
      ],
      "execution_count": 0,
      "outputs": []
    },
    {
      "cell_type": "code",
      "metadata": {
        "id": "u75DjKsfHzMl",
        "colab_type": "code",
        "colab": {}
      },
      "source": [
        "colors = np.array(['orange', 'blue', 'lime', 'blue', 'khaki', 'pink', 'green', 'purple'])\n",
        "\n",
        "# points - a 2D array of (x,y) coordinates of data points\n",
        "# labels - an array of numeric labels in the interval [0..k-1], one for each point\n",
        "# centers - a 2D array of (x, y) coordinates of cluster centers\n",
        "# title - title of the plot\n",
        "\n",
        "\n",
        "def clustering_scatterplot(points, labels, centers, title):\n",
        "    \n",
        "    \n",
        "    n_clusters = np.unique(labels).size\n",
        "    for i in range(n_clusters):\n",
        "        h = plt.scatter(points[labels==i,0],\n",
        "                        points[labels==i,1], \n",
        "                        c=colors[i%colors.size],\n",
        "                        label = 'cluster '+str(i))\n",
        "\n",
        "    # plot the centers of the clusters\n",
        "    if centers is not None:\n",
        "        plt.scatter(centers[:,0], centers[:,1], c='r', marker='*', s=500)\n",
        "\n",
        "    _ = plt.title(title)\n",
        "    _ = plt.legend()\n",
        "    _ = plt.xlabel('x')\n",
        "    _ = plt.ylabel('y')"
      ],
      "execution_count": 0,
      "outputs": []
    },
    {
      "cell_type": "markdown",
      "metadata": {
        "id": "GEpWsee-H2tU",
        "colab_type": "text"
      },
      "source": [
        "# Clustering for Robustscalar Dataset"
      ]
    },
    {
      "cell_type": "code",
      "metadata": {
        "id": "Ag-VdMlcH0sU",
        "colab_type": "code",
        "colab": {}
      },
      "source": [
        "k = 3"
      ],
      "execution_count": 0,
      "outputs": []
    },
    {
      "cell_type": "code",
      "metadata": {
        "id": "L2ujTzUuH7n6",
        "colab_type": "code",
        "colab": {}
      },
      "source": [
        "clustered_data_sklearn = cluster.KMeans(n_clusters=k, n_init=10, max_iter=300).fit(robust_df)"
      ],
      "execution_count": 0,
      "outputs": []
    },
    {
      "cell_type": "code",
      "metadata": {
        "id": "IIfUpyEQH9Be",
        "colab_type": "code",
        "colab": {}
      },
      "source": [
        "data_and_centers = np.r_[robust_df,clustered_data_sklearn.cluster_centers_]"
      ],
      "execution_count": 0,
      "outputs": []
    },
    {
      "cell_type": "code",
      "metadata": {
        "id": "-94XaCnpH-Oh",
        "colab_type": "code",
        "colab": {}
      },
      "source": [
        "# XYcoordinates = manifold.MDS(n_components=2).fit_transform(data_and_centers)\n",
        "# print(\"transformation complete\")"
      ],
      "execution_count": 0,
      "outputs": []
    },
    {
      "cell_type": "code",
      "metadata": {
        "id": "Q8TnlZYwH_3Z",
        "colab_type": "code",
        "colab": {}
      },
      "source": [
        "# clustering_scatterplot(points=XYcoordinates[:-k,:], \n",
        "#                        labels=clustered_data_sklearn.labels_, \n",
        "#                        centers=XYcoordinates[-k:,:], \n",
        "#                        title='MDS')"
      ],
      "execution_count": 0,
      "outputs": []
    },
    {
      "cell_type": "markdown",
      "metadata": {
        "id": "dchazsAAICRY",
        "colab_type": "text"
      },
      "source": [
        "# Clustering for MinMaxScalar Dataset\n"
      ]
    },
    {
      "cell_type": "code",
      "metadata": {
        "id": "WTKkQjuBIBRL",
        "colab_type": "code",
        "colab": {}
      },
      "source": [
        "clustered_data_sklearn = cluster.KMeans(n_clusters=k, n_init=10, max_iter=300).fit(minmax_df)"
      ],
      "execution_count": 0,
      "outputs": []
    },
    {
      "cell_type": "code",
      "metadata": {
        "id": "M_08zlM5IGZr",
        "colab_type": "code",
        "colab": {}
      },
      "source": [
        "data_and_centers = np.r_[minmax_df,clustered_data_sklearn.cluster_centers_]"
      ],
      "execution_count": 0,
      "outputs": []
    },
    {
      "cell_type": "code",
      "metadata": {
        "id": "C4CfgfezIHgC",
        "colab_type": "code",
        "colab": {}
      },
      "source": [
        "# XYcoordinates = manifold.MDS(n_components=2).fit_transform(data_and_centers)\n",
        "# print(\"transformation complete\")"
      ],
      "execution_count": 0,
      "outputs": []
    },
    {
      "cell_type": "code",
      "metadata": {
        "id": "MpkfEO6UIIbG",
        "colab_type": "code",
        "colab": {}
      },
      "source": [
        "# clustering_scatterplot(points=XYcoordinates[:-k,:], \n",
        "#                        labels=clustered_data_sklearn.labels_, \n",
        "#                        centers=XYcoordinates[-k:,:], \n",
        "#                        title='MDS')"
      ],
      "execution_count": 0,
      "outputs": []
    },
    {
      "cell_type": "markdown",
      "metadata": {
        "id": "hpO7vt9DIMi-",
        "colab_type": "text"
      },
      "source": [
        "# Regression model"
      ]
    },
    {
      "cell_type": "code",
      "metadata": {
        "id": "6_w0PGBkIJqO",
        "colab_type": "code",
        "colab": {}
      },
      "source": [
        "from sklearn.pipeline import Pipeline, make_pipeline, FeatureUnion\n",
        "from sklearn.compose import ColumnTransformer\n",
        "from sklearn.base import BaseEstimator, TransformerMixin\n",
        "from sklearn.preprocessing import StandardScaler, FunctionTransformer\n",
        "from sklearn.model_selection import train_test_split, GridSearchCV\n",
        "import pickle\n",
        "\n",
        "# imports necessary for dimensionality reduction\n",
        "from sklearn.decomposition import PCA\n",
        "from sklearn.feature_selection import RFE\n",
        "from sklearn import svm\n",
        "\n",
        "# regression algorithms\n",
        "from sklearn.ensemble import RandomForestRegressor\n",
        "from sklearn.linear_model import LinearRegression\n",
        "\n",
        "# metrics for evaluating regression models\n",
        "from sklearn.metrics import mean_squared_error, mean_absolute_error, r2_score"
      ],
      "execution_count": 0,
      "outputs": []
    },
    {
      "cell_type": "code",
      "metadata": {
        "id": "hxtVHYloIPvA",
        "colab_type": "code",
        "colab": {}
      },
      "source": [
        "orig_df = pd.read_csv('orig.csv')\n",
        "robust_df = pd.read_csv('robust_scaler.csv')\n",
        "minmax_df = pd.read_csv('minmax_scaler.csv')"
      ],
      "execution_count": 0,
      "outputs": []
    },
    {
      "cell_type": "code",
      "metadata": {
        "id": "W5Jnt0KDWAma",
        "colab_type": "code",
        "colab": {
          "base_uri": "https://localhost:8080/",
          "height": 1000
        },
        "outputId": "eeb370cd-e2ea-41f1-8f9b-bf77b15e3239"
      },
      "source": [
        "import matplotlib.pyplot as plt\n",
        "\n",
        "groups = [['subject#', 'motor_UPDRS'], ['total_UPDRS', 'Jitter:PPQ5'], ['Jitter:DDP', 'Shimmer:DDA'], ['NHR', 'PPE']]\n",
        "for fields in groups:\n",
        "  df.loc[:, fields[0]:fields[1]].boxplot(figsize=(30,5))\n",
        "  plt.show()"
      ],
      "execution_count": 41,
      "outputs": [
        {
          "output_type": "display_data",
          "data": {
            "image/png": "[encoded data removed]",
            "text/plain": [
              "<Figure size 2160x360 with 1 Axes>"
            ]
          },
          "metadata": {
            "tags": []
          }
        },
        {
          "output_type": "display_data",
          "data": {
            "image/png": "[encoded data removed]",
            "text/plain": [
              "<Figure size 2160x360 with 1 Axes>"
            ]
          },
          "metadata": {
            "tags": []
          }
        },
        {
          "output_type": "display_data",
          "data": {
            "image/png": "[encoded data removed]",
            "text/plain": [
              "<Figure size 2160x360 with 1 Axes>"
            ]
          },
          "metadata": {
            "tags": []
          }
        },
        {
          "output_type": "display_data",
          "data": {
            "image/png": "[encoded data removed]",
            "text/plain": [
              "<Figure size 2160x360 with 1 Axes>"
            ]
          },
          "metadata": {
            "tags": []
          }
        }
      ]
    },
    {
      "cell_type": "code",
      "metadata": {
        "id": "4UtsaeDUIVVf",
        "colab_type": "code",
        "colab": {}
      },
      "source": [
        "all_columns = list(orig_df.columns)\n",
        "names_all = list(orig_df.columns)\n",
        "names_outliers = outliers\n",
        "names_no_outliers = non_outliers"
      ],
      "execution_count": 0,
      "outputs": []
    },
    {
      "cell_type": "code",
      "metadata": {
        "id": "olvBsGbrIdsz",
        "colab_type": "code",
        "colab": {}
      },
      "source": [
        "TARGETS = ['motor_UPDRS',\t'total_UPDRS'\t]\n",
        "TARGET = TARGETS[1]\n",
        "\n",
        "y = orig_df[TARGET]\n",
        "X = orig_df.drop(TARGET, axis=1).values\n",
        "X_train, X_test, y_train, y_test = train_test_split(X, y, test_size=0.2, shuffle=True)"
      ],
      "execution_count": 0,
      "outputs": []
    },
    {
      "cell_type": "code",
      "metadata": {
        "id": "ac9u6hCwPrg7",
        "colab_type": "code",
        "colab": {
          "base_uri": "https://localhost:8080/",
          "height": 34
        },
        "outputId": "4847ee1c-6cea-435a-9e04-9d95696957cf"
      },
      "source": [
        "y_train.shape"
      ],
      "execution_count": 44,
      "outputs": [
        {
          "output_type": "execute_result",
          "data": {
            "text/plain": [
              "(1680,)"
            ]
          },
          "metadata": {
            "tags": []
          },
          "execution_count": 44
        }
      ]
    },
    {
      "cell_type": "code",
      "metadata": {
        "id": "LxJYaTLlIw4v",
        "colab_type": "code",
        "colab": {}
      },
      "source": [
        "all_columns.remove(TARGET)\n",
        "X_train = method_2_scaling(pd.DataFrame(X_train, dtype=float, columns=all_columns)).to_numpy()\n",
        "X_test  = method_2_scaling(pd.DataFrame(X_test , dtype=float, columns=all_columns)).to_numpy()\n",
        "\n",
        "y_train = MinMaxScaler().fit_transform(pd.DataFrame(y_train, columns=[TARGET]))\n",
        "y_test = MinMaxScaler().fit_transform(pd.DataFrame(y_test, columns=[TARGET]))"
      ],
      "execution_count": 0,
      "outputs": []
    },
    {
      "cell_type": "code",
      "metadata": {
        "id": "CJZYB2eEP_9N",
        "colab_type": "code",
        "colab": {}
      },
      "source": [
        "# param_grid = {\n",
        "#     'bootstrap': [True],\n",
        "#     'max_depth': [80, 90, 100, 110],\n",
        "#     'max_features': [2, 3],\n",
        "#     'min_samples_leaf': [3, 4, 5],\n",
        "#     'min_samples_split': [8, 10, 12],\n",
        "#     'n_estimators': [100, 200, 300, 1000]\n",
        "# }\n",
        "# #search = GridSearchCV(pipe, param_grid, cv=10, iid = False, refit=True)\n",
        "# rf = RandomForestRegressor()\n",
        "\n",
        "# search = GridSearchCV(estimator = rf, param_grid = param_grid, \n",
        "#                           cv = 3, n_jobs = -1, verbose = 2)\n",
        "# search.fit(X_train, y_train)\n",
        "\n",
        "# print(\"Best CV score = %0.3f:\" % search.best_score_)\n",
        "# print(\"Best parameters: \", search.best_params_)\n",
        "\n",
        "# # store the best params and best model for later use\n",
        "# RF_best_params = search.best_params_\n",
        "# RF_best_model = search.best_estimator_"
      ],
      "execution_count": 0,
      "outputs": []
    },
    {
      "cell_type": "markdown",
      "metadata": {
        "id": "ETR59OawR1eQ",
        "colab_type": "text"
      },
      "source": [
        "# Evaluation"
      ]
    },
    {
      "cell_type": "code",
      "metadata": {
        "id": "0bQ9HTBPRwVS",
        "colab_type": "code",
        "colab": {}
      },
      "source": [
        "# model - a trained regression model\n",
        "\n",
        "def evaluate_model(X_test, y_test, model):\n",
        "    \n",
        "    # compute predictiond for the test set\n",
        "    _predicted_values = model.predict(X_test)\n",
        "        \n",
        "    # compute metrics\n",
        "    _mse = mean_squared_error(y_test, _predicted_values)\n",
        "    _mae = mean_absolute_error(y_test, _predicted_values)\n",
        "    _r2 = r2_score(y_test, _predicted_values)\n",
        "            \n",
        "    return _mse, _mae, _r2"
      ],
      "execution_count": 0,
      "outputs": []
    },
    {
      "cell_type": "code",
      "metadata": {
        "id": "7U1AyYbqR6Ag",
        "colab_type": "code",
        "colab": {
          "base_uri": "https://localhost:8080/",
          "height": 185
        },
        "outputId": "c1c16209-02f1-4c1f-835d-2e3b6b95e0ad"
      },
      "source": [
        "RF_mse, RF_mae, RF_r2 = evaluate_model(X_test, y_test, RF_best_model)\n",
        "print(\"RF_mse: \", RF_mse, \"RF_mae: \", RF_mae, \"RF_r2: \", RF_r2)"
      ],
      "execution_count": 48,
      "outputs": [
        {
          "output_type": "error",
          "ename": "NameError",
          "evalue": "ignored",
          "traceback": [
            "\u001b[0;31m---------------------------------------------------------------------------\u001b[0m",
            "\u001b[0;31mNameError\u001b[0m                                 Traceback (most recent call last)",
            "\u001b[0;32m<ipython-input-48-814574da350b>\u001b[0m in \u001b[0;36m<module>\u001b[0;34m()\u001b[0m\n\u001b[0;32m----> 1\u001b[0;31m \u001b[0mRF_mse\u001b[0m\u001b[0;34m,\u001b[0m \u001b[0mRF_mae\u001b[0m\u001b[0;34m,\u001b[0m \u001b[0mRF_r2\u001b[0m \u001b[0;34m=\u001b[0m \u001b[0mevaluate_model\u001b[0m\u001b[0;34m(\u001b[0m\u001b[0mX_test\u001b[0m\u001b[0;34m,\u001b[0m \u001b[0my_test\u001b[0m\u001b[0;34m,\u001b[0m \u001b[0mRF_best_model\u001b[0m\u001b[0;34m)\u001b[0m\u001b[0;34m\u001b[0m\u001b[0;34m\u001b[0m\u001b[0m\n\u001b[0m\u001b[1;32m      2\u001b[0m \u001b[0mprint\u001b[0m\u001b[0;34m(\u001b[0m\u001b[0;34m\"RF_mse: \"\u001b[0m\u001b[0;34m,\u001b[0m \u001b[0mRF_mse\u001b[0m\u001b[0;34m,\u001b[0m \u001b[0;34m\"RF_mae: \"\u001b[0m\u001b[0;34m,\u001b[0m \u001b[0mRF_mae\u001b[0m\u001b[0;34m,\u001b[0m \u001b[0;34m\"RF_r2: \"\u001b[0m\u001b[0;34m,\u001b[0m \u001b[0mRF_r2\u001b[0m\u001b[0;34m)\u001b[0m\u001b[0;34m\u001b[0m\u001b[0;34m\u001b[0m\u001b[0m\n",
            "\u001b[0;31mNameError\u001b[0m: name 'RF_best_model' is not defined"
          ]
        }
      ]
    },
    {
      "cell_type": "code",
      "metadata": {
        "id": "G8s2A3qTR7ed",
        "colab_type": "code",
        "colab": {}
      },
      "source": [
        "# function to remove the string 'regresson__' from the names of the best parameters\n",
        "def transform(dict, prefix):\n",
        "    dict_prefix = {key:value for key,value in dict.items() if prefix in key}\n",
        "    return {key.replace(prefix,''):value for key,value in dict_prefix.items()}\n",
        "\n",
        "model = search.best_estimator_\n",
        "final_model = model.fit(X, y)"
      ],
      "execution_count": 0,
      "outputs": []
    },
    {
      "cell_type": "markdown",
      "metadata": {
        "id": "V4RptiKBR_3j",
        "colab_type": "text"
      },
      "source": [
        "# Save model"
      ]
    },
    {
      "cell_type": "code",
      "metadata": {
        "id": "sMzNxfcTR906",
        "colab_type": "code",
        "colab": {}
      },
      "source": [
        "filename = 'final_model.sav'\n",
        "pickle.dump(final_model, open(filename, 'wb'))"
      ],
      "execution_count": 0,
      "outputs": []
    },
    {
      "cell_type": "code",
      "metadata": {
        "id": "4Hncs3SmUptL",
        "colab_type": "code",
        "colab": {}
      },
      "source": [
        ""
      ],
      "execution_count": 0,
      "outputs": []
    }
  ]
}